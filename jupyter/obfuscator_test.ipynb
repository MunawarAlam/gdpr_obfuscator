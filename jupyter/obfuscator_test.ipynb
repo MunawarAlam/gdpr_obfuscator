{
 "cells": [
  {
   "cell_type": "code",
   "execution_count": 2,
   "id": "a57b3f87-47e2-4dbf-be52-f5e800e9a81a",
   "metadata": {},
   "outputs": [],
   "source": [
    "import pandas as pd\n",
    "import numpy as np"
   ]
  },
  {
   "cell_type": "code",
   "execution_count": 19,
   "id": "7d117258-c2db-41af-a9d8-ed2bcbc90e0e",
   "metadata": {},
   "outputs": [],
   "source": [
    "indata = pd.read_csv('/home/munawaralam/dev/me/gdpr_obfuscator/data/Students_Grading_Dataset.csv')"
   ]
  },
  {
   "cell_type": "code",
   "execution_count": 62,
   "id": "befdffce-a86d-4d3f-aee4-d4fbe2e9e2e1",
   "metadata": {},
   "outputs": [],
   "source": [
    "indata.loc[indata[\"First_Name\"] == \"Omar\", \"First_Name\"] = 1"
   ]
  },
  {
   "cell_type": "code",
   "execution_count": 74,
   "id": "f1af0d33-82f5-483c-abee-4a366605b9d4",
   "metadata": {},
   "outputs": [],
   "source": [
    "indata[\"First_Name\"] = np.where(indata[\"First_Name\"] != \"Omar\", \"******\", \"******\")"
   ]
  },
  {
   "cell_type": "code",
   "execution_count": null,
   "id": "df0c04f9-041a-45a8-a304-2db049500bc6",
   "metadata": {},
   "outputs": [],
   "source": [
    "print(indata)"
   ]
  },
  {
   "cell_type": "code",
   "execution_count": 13,
   "id": "232c05f7-dc51-468d-b4a0-9ad0b2b8819e",
   "metadata": {},
   "outputs": [
    {
     "name": "stdout",
     "output_type": "stream",
     "text": [
      "First_Name\n"
     ]
    }
   ],
   "source": [
    "#print(indata.columns.get_loc('Last_Nam'))\n",
    "print(indata.columns[1])"
   ]
  },
  {
   "cell_type": "code",
   "execution_count": 20,
   "id": "369859e4-a5be-4183-a10d-ad5e5b2f79a7",
   "metadata": {},
   "outputs": [],
   "source": [
    "def replace_string(x):\n",
    "    return (\"******\")\n"
   ]
  },
  {
   "cell_type": "code",
   "execution_count": null,
   "id": "0898b746-849e-44e7-a8d1-f34247c9826f",
   "metadata": {},
   "outputs": [],
   "source": [
    "f_name_col = indata[\"first_Name\"]"
   ]
  },
  {
   "cell_type": "code",
   "execution_count": 16,
   "id": "ef6c4bb8-8278-4f60-bb2e-ce8bd8e6a45f",
   "metadata": {},
   "outputs": [],
   "source": [
    "new_f_name = f_name_col.apply(replace_string)"
   ]
  },
  {
   "cell_type": "code",
   "execution_count": 17,
   "id": "d6c0e7af-73a2-4e19-8a36-75ec43778d76",
   "metadata": {},
   "outputs": [],
   "source": [
    "indata[\"First_Name\"] = new_f_name"
   ]
  },
  {
   "cell_type": "code",
   "execution_count": 18,
   "id": "8df1ceb8-e5c4-4d34-8fbc-6b93030ec4e8",
   "metadata": {},
   "outputs": [
    {
     "name": "stdout",
     "output_type": "stream",
     "text": [
      "     Student_ID First_Name Last_Name                       Email  Gender  Age  \\\n",
      "0         S1000     ******  Williams     student0@university.com  Female   22   \n",
      "1         S1001     ******     Brown     student1@university.com    Male   18   \n",
      "2         S1002     ******     Jones     student2@university.com    Male   24   \n",
      "3         S1003     ******  Williams     student3@university.com  Female   24   \n",
      "4         S1004     ******     Smith     student4@university.com  Female   23   \n",
      "...         ...        ...       ...                         ...     ...  ...   \n",
      "4995      S5995     ******     Jones  student4995@university.com    Male   19   \n",
      "4996      S5996     ******     Brown  student4996@university.com    Male   19   \n",
      "4997      S5997     ******     Brown  student4997@university.com  Female   24   \n",
      "4998      S5998     ******     Davis  student4998@university.com    Male   23   \n",
      "4999      S5999     ******     Brown  student4999@university.com  Female   21   \n",
      "\n",
      "       Department  Attendance (%)  Participation_Score  Projects_Score  ...  \\\n",
      "0     Engineering        47.50823             5.188714           50.79  ...   \n",
      "1     Engineering        45.62664             4.855225           48.37  ...   \n",
      "2        Business        65.30870             6.865234           69.22  ...   \n",
      "3     Mathematics        53.67973             5.401402           61.52  ...   \n",
      "4              CS        62.02994             5.575885           63.12  ...   \n",
      "...           ...             ...                  ...             ...  ...   \n",
      "4995     Business        67.00000             9.000000           91.00  ...   \n",
      "4996     Business        95.00000             6.000000           65.00  ...   \n",
      "4997           CS        59.00000             8.000000           97.00  ...   \n",
      "4998           CS        51.00000             8.000000           91.00  ...   \n",
      "4999  Engineering        97.00000             9.000000           78.00  ...   \n",
      "\n",
      "      Grade Study_Hours_per_Week  Extracurricular_Activities  \\\n",
      "0         F              14.0225                          No   \n",
      "1         A              12.6600                          No   \n",
      "2         D              17.5750                          No   \n",
      "3         A              15.4075                          No   \n",
      "4         F              16.5325                          No   \n",
      "...     ...                  ...                         ...   \n",
      "4995      D              17.0420                         Yes   \n",
      "4996      C              19.1920                         Yes   \n",
      "4997      A              10.8500                          No   \n",
      "4998      A              11.1680                          No   \n",
      "4999      F              15.5720                         Yes   \n",
      "\n",
      "     Internet_Access_at_Home Parent_Education_Level Family_Income_Level  \\\n",
      "0                        Yes            High School                 Low   \n",
      "1                         No                    NaN                 Low   \n",
      "2                        Yes               Master's                 Low   \n",
      "3                        Yes            High School                 Low   \n",
      "4                        Yes            High School                 Low   \n",
      "...                      ...                    ...                 ...   \n",
      "4995                     Yes            High School                High   \n",
      "4996                     Yes                    NaN                High   \n",
      "4997                      No            High School                 Low   \n",
      "4998                     Yes             Bachelor's                 Low   \n",
      "4999                     Yes                    PhD                High   \n",
      "\n",
      "     Stress_Level (1-10)  Sleep_Hours_per_Night  Sleep_Hours_per_Night_Entier  \\\n",
      "0                      5                    4.7                             5   \n",
      "1                      4                    9.0                             9   \n",
      "2                      6                    6.2                             6   \n",
      "3                      3                    6.7                             7   \n",
      "4                      2                    7.1                             7   \n",
      "...                  ...                    ...                           ...   \n",
      "4995                  10                    8.3                             8   \n",
      "4996                   4                    4.0                             4   \n",
      "4997                   4                    6.3                             6   \n",
      "4998                   1                    8.4                             8   \n",
      "4999                   2                    6.1                             6   \n",
      "\n",
      "        Country  \n",
      "0            US  \n",
      "1         Japan  \n",
      "2         Japan  \n",
      "3        Canada  \n",
      "4         Japan  \n",
      "...         ...  \n",
      "4995         US  \n",
      "4996  Australia  \n",
      "4997      Japan  \n",
      "4998      Japan  \n",
      "4999  Australia  \n",
      "\n",
      "[5000 rows x 21 columns]\n"
     ]
    }
   ],
   "source": [
    "print(indata)"
   ]
  },
  {
   "cell_type": "code",
   "execution_count": null,
   "id": "fb02cce2-5c9c-42a1-a5e3-c3ba2371ff6f",
   "metadata": {},
   "outputs": [],
   "source": []
  }
 ],
 "metadata": {
  "kernelspec": {
   "display_name": "Python 3 (ipykernel)",
   "language": "python",
   "name": "python3"
  },
  "language_info": {
   "codemirror_mode": {
    "name": "ipython",
    "version": 3
   },
   "file_extension": ".py",
   "mimetype": "text/x-python",
   "name": "python",
   "nbconvert_exporter": "python",
   "pygments_lexer": "ipython3",
   "version": "3.12.5"
  }
 },
 "nbformat": 4,
 "nbformat_minor": 5
}
